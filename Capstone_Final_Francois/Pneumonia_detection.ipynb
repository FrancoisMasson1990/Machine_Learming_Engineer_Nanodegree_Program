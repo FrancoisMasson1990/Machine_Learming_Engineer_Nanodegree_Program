{
 "cells": [
  {
   "cell_type": "code",
   "execution_count": 4,
   "metadata": {},
   "outputs": [
    {
     "name": "stdout",
     "output_type": "stream",
     "text": [
      "There are 5216 training chest X-Ray images.\n",
      "There are 624 test chest X-Ray images.\n",
      "There are 16 validation chest X-Ray images.\n"
     ]
    }
   ],
   "source": [
    "# Capstone project : Pneumonia detection based on chest X-Ray Images\n",
    "# Francois Masson\n",
    "# September 2018\n",
    "\n",
    "# Step 0 : Import Data set\n",
    "\n",
    "# All the images inside the ‘Normal’ named folder will be considered as Normal by keras.\n",
    "# All the images inside the ‘Pneumonia’ named folder will be considered as Pneumonia by keras.\n",
    "\n",
    "from sklearn.datasets import load_files\n",
    "from keras.utils import np_utils\n",
    "import numpy as np\n",
    "\n",
    "# define function to load train, test, and validation datasets\n",
    "def load_dataset(path):\n",
    "    data = load_files(path)\n",
    "    files = np.array(data['filenames'])\n",
    "    targets = np_utils.to_categorical(np.array(data['target']), 2)\n",
    "    return files,targets\n",
    "\n",
    "# The data provided in Kaggle are already split in train test and validation set\n",
    "\n",
    "# load train, test, and validation datasets\n",
    "train_files,train_target = load_dataset('./chest_xray/train')\n",
    "test_files,test_target = load_dataset('./chest_xray/test')\n",
    "valid_files,valid_target = load_dataset('./chest_xray/val')\n",
    "\n",
    "print('There are %d training chest X-Ray images.' % len(train_files))\n",
    "print('There are %d test chest X-Ray images.'% len(test_files))\n",
    "print('There are %d validation chest X-Ray images.' % len(valid_files))\n"
   ]
  },
  {
   "cell_type": "code",
   "execution_count": 11,
   "metadata": {},
   "outputs": [],
   "source": [
    "# Step 1 : Creation of a CNN to classify normal and pneumonia detection based on chest X-Ray Images (from Scratch)\n",
    "# Step 1-1 Preprocessing the data\n",
    "\n",
    "from keras.preprocessing import image                  \n",
    "from tqdm import tqdm\n",
    "\n",
    "def path_to_tensor(img_path):\n",
    "    # loads RGB image as PIL.Image.Image type\n",
    "    img = image.load_img(img_path, target_size=(256, 256))\n",
    "    # convert PIL.Image.Image type to 3D tensor with shape (224, 224, 3)\n",
    "    x = image.img_to_array(img)\n",
    "    # convert 3D tensor to 4D tensor with shape (1, 224, 224, 3) and return 4D tensor\n",
    "    return np.expand_dims(x, axis=0)\n",
    "\n",
    "def paths_to_tensor(img_paths):\n",
    "    list_of_tensors = [path_to_tensor(img_path) for img_path in tqdm(img_paths)]\n",
    "    return np.vstack(list_of_tensors)"
   ]
  },
  {
   "cell_type": "code",
   "execution_count": 12,
   "metadata": {},
   "outputs": [
    {
     "name": "stderr",
     "output_type": "stream",
     "text": [
      "100%|██████████| 5216/5216 [01:38<00:00, 53.01it/s]\n",
      "100%|██████████| 16/16 [00:00<00:00, 23.35it/s]\n",
      "100%|██████████| 624/624 [00:11<00:00, 52.73it/s]\n"
     ]
    }
   ],
   "source": [
    "# Step 1-2 : rescale the images by dividing every pixel in every image by 255.\n",
    "\n",
    "from PIL import ImageFile                            \n",
    "ImageFile.LOAD_TRUNCATED_IMAGES = True                 \n",
    "\n",
    "# pre-process the data for Keras\n",
    "train_tensors = paths_to_tensor(train_files).astype('float32')/255\n",
    "valid_tensors = paths_to_tensor(valid_files).astype('float32')/255\n",
    "test_tensors = paths_to_tensor(test_files).astype('float32')/255\n",
    "\n"
   ]
  },
  {
   "cell_type": "code",
   "execution_count": 5,
   "metadata": {},
   "outputs": [
    {
     "name": "stdout",
     "output_type": "stream",
     "text": [
      "_________________________________________________________________\n",
      "Layer (type)                 Output Shape              Param #   \n",
      "=================================================================\n",
      "conv2d_1 (Conv2D)            (None, 256, 256, 16)      208       \n",
      "_________________________________________________________________\n",
      "max_pooling2d_1 (MaxPooling2 (None, 128, 128, 16)      0         \n",
      "_________________________________________________________________\n",
      "conv2d_2 (Conv2D)            (None, 128, 128, 32)      2080      \n",
      "_________________________________________________________________\n",
      "max_pooling2d_2 (MaxPooling2 (None, 64, 64, 32)        0         \n",
      "_________________________________________________________________\n",
      "conv2d_3 (Conv2D)            (None, 64, 64, 64)        8256      \n",
      "_________________________________________________________________\n",
      "max_pooling2d_3 (MaxPooling2 (None, 32, 32, 64)        0         \n",
      "_________________________________________________________________\n",
      "flatten_1 (Flatten)          (None, 65536)             0         \n",
      "_________________________________________________________________\n",
      "dense_1 (Dense)              (None, 128)               8388736   \n",
      "_________________________________________________________________\n",
      "dense_2 (Dense)              (None, 2)                 258       \n",
      "=================================================================\n",
      "Total params: 8,399,538\n",
      "Trainable params: 8,399,538\n",
      "Non-trainable params: 0\n",
      "_________________________________________________________________\n"
     ]
    }
   ],
   "source": [
    "# Step 2 : Create a vanilla CNN model \n",
    "\n",
    "# Benchmark model\n",
    "\n",
    "# Step 2-1 Define the architecture\n",
    "#In a two class problem, there is no difference at all between using a softmax with two outputs or one binary output, \n",
    "# assuming you use a sigmoid (logistic) function to model the probability of the output. The two things are mathematically equivalent.\n",
    "\n",
    "from keras.models import Sequential\n",
    "from keras.layers import Conv2D\n",
    "from keras.layers import MaxPooling2D\n",
    "from keras.layers import GlobalAveragePooling2D\n",
    "from keras.layers import Flatten\n",
    "from keras.layers import Dense\n",
    "\n",
    "# Initialising the CNN\n",
    "classifier = Sequential()\n",
    "# Step A - Convolution\n",
    "classifier.add(Conv2D(filters=16, kernel_size=2, padding='same', activation='relu',input_shape=(256, 256, 3)))\n",
    "classifier.add(MaxPooling2D(pool_size=2))\n",
    "classifier.add(Conv2D(filters=32, kernel_size=2, padding='same', activation='relu'))\n",
    "classifier.add(MaxPooling2D(pool_size=2))\n",
    "classifier.add(Conv2D(filters=64, kernel_size=2, padding='same', activation='relu'))\n",
    "classifier.add(MaxPooling2D(pool_size=2))\n",
    "classifier.add(Flatten())\n",
    "classifier.add(Dense(128, activation = 'relu'))\n",
    "classifier.add(Dense(2, activation='softmax'))\n",
    "\n",
    "classifier.summary()\n"
   ]
  },
  {
   "cell_type": "code",
   "execution_count": 5,
   "metadata": {},
   "outputs": [],
   "source": [
    "from keras.utils import plot_model\n",
    "plot_model(classifier, to_file='Model_png/model_scratch.png')"
   ]
  },
  {
   "cell_type": "code",
   "execution_count": 6,
   "metadata": {},
   "outputs": [
    {
     "name": "stdout",
     "output_type": "stream",
     "text": [
      "importing Jupyter notebook from F1_score.ipynb\n"
     ]
    }
   ],
   "source": [
    "# Step 2-2 - Compile the model \n",
    "#classifier.compile(optimizer='rmsprop', loss='categorical_crossentropy', metrics=['accuracy'])\n",
    "\n",
    "# F1 not support anymore with Keras so build-on \n",
    "\n",
    "import import_ipynb\n",
    "from F1_score import f1\n",
    "\n",
    "classifier.compile(optimizer='rmsprop', loss='binary_crossentropy', metrics=[f1])"
   ]
  },
  {
   "cell_type": "code",
   "execution_count": 7,
   "metadata": {},
   "outputs": [
    {
     "name": "stdout",
     "output_type": "stream",
     "text": [
      "Train on 5216 samples, validate on 16 samples\n",
      "Epoch 1/5\n",
      "5216/5216 [==============================] - 429s 82ms/step - loss: 4.1055 - f1: 0.7419 - val_loss: 8.0151 - val_f1: 0.5000\n",
      "\n",
      "Epoch 00001: val_loss improved from inf to 8.01512, saving model to ./saved_models/weights.best.from_scratch.hdf5\n",
      "Epoch 2/5\n",
      "5216/5216 [==============================] - 423s 81ms/step - loss: 4.1213 - f1: 0.7429 - val_loss: 8.0151 - val_f1: 0.5000\n",
      "\n",
      "Epoch 00002: val_loss did not improve from 8.01512\n",
      "Epoch 3/5\n",
      "5216/5216 [==============================] - 444s 85ms/step - loss: 4.1213 - f1: 0.7429 - val_loss: 8.0151 - val_f1: 0.5000\n",
      "\n",
      "Epoch 00003: val_loss did not improve from 8.01512\n",
      "Epoch 4/5\n",
      "5216/5216 [==============================] - 377s 72ms/step - loss: 4.1213 - f1: 0.7429 - val_loss: 8.0151 - val_f1: 0.5000\n",
      "\n",
      "Epoch 00004: val_loss did not improve from 8.01512\n",
      "Epoch 5/5\n",
      "5216/5216 [==============================] - 314s 60ms/step - loss: 4.1213 - f1: 0.7429 - val_loss: 8.0151 - val_f1: 0.5000\n",
      "\n",
      "Epoch 00005: val_loss did not improve from 8.01512\n"
     ]
    }
   ],
   "source": [
    "# Step 2-3 Train the model\n",
    "\n",
    "from keras.callbacks import ModelCheckpoint  \n",
    "\n",
    "epochs = 5\n",
    "\n",
    "\n",
    "### Do NOT modify the code below this line.\n",
    "\n",
    "checkpointer = ModelCheckpoint(filepath='./saved_models/weights.best.from_scratch.hdf5', \n",
    "                               verbose=1, save_best_only=True)\n",
    "\n",
    "history = classifier.fit(train_tensors, train_target, \n",
    "          validation_data=(valid_tensors, valid_target),\n",
    "          epochs=epochs, batch_size=20, callbacks=[checkpointer], verbose=1)"
   ]
  },
  {
   "cell_type": "code",
   "execution_count": 8,
   "metadata": {},
   "outputs": [],
   "source": [
    "# Step 2-4 Load the Model with the Best Validation Loss\n",
    "classifier.load_weights('saved_models/weights.best.from_scratch.hdf5')"
   ]
  },
  {
   "cell_type": "code",
   "execution_count": 9,
   "metadata": {},
   "outputs": [
    {
     "name": "stdout",
     "output_type": "stream",
     "text": [
      "F1 score:  0.625\n"
     ]
    }
   ],
   "source": [
    "# Step 2-5 Test the trained model\n",
    "\n",
    "chest_xray_predictions = [np.argmax(classifier.predict(np.expand_dims(tensor, axis=0))) for tensor in test_tensors]\n",
    "\n",
    "# report test accuracy\n",
    "test_accuracy = np.sum(np.array(chest_xray_predictions)==np.argmax(test_target, axis=1))/len(chest_xray_predictions)\n",
    "print('F1 score: ',test_accuracy)"
   ]
  },
  {
   "cell_type": "code",
   "execution_count": 8,
   "metadata": {},
   "outputs": [
    {
     "data": {
      "image/png": "[encoded data removed]",
      "text/plain": [
       "<Figure size 432x288 with 1 Axes>"
      ]
     },
     "metadata": {},
     "output_type": "display_data"
    }
   ],
   "source": [
    "import matplotlib.pyplot as plt\n",
    "\n",
    "# Plot training & validation accuracy values\n",
    "plt.plot(history.history['f1'])\n",
    "plt.plot(history.history['val_f1'])\n",
    "plt.title('Model accuracy')\n",
    "plt.ylabel('F1 Accuracy')\n",
    "plt.xlabel('Epoch')\n",
    "plt.legend(['Train', 'Val'], loc='upper left')\n",
    "plt.show()"
   ]
  },
  {
   "cell_type": "code",
   "execution_count": 11,
   "metadata": {},
   "outputs": [
    {
     "data": {
      "image/png": "[encoded data removed]",
      "text/plain": [
       "<Figure size 432x288 with 1 Axes>"
      ]
     },
     "metadata": {},
     "output_type": "display_data"
    }
   ],
   "source": [
    "# Plot training & validation loss values\n",
    "plt.plot(history.history['loss'])\n",
    "plt.plot(history.history['val_loss'])\n",
    "plt.title('Model loss')\n",
    "plt.ylabel('Loss')\n",
    "plt.xlabel('Epoch')\n",
    "plt.legend(['Train', 'Val'], loc='upper left')\n",
    "plt.show()"
   ]
  },
  {
   "cell_type": "code",
   "execution_count": 12,
   "metadata": {},
   "outputs": [],
   "source": [
    "###################################################################"
   ]
  },
  {
   "cell_type": "code",
   "execution_count": 13,
   "metadata": {},
   "outputs": [
    {
     "name": "stdout",
     "output_type": "stream",
     "text": [
      "_________________________________________________________________\n",
      "Layer (type)                 Output Shape              Param #   \n",
      "=================================================================\n",
      "conv2d_4 (Conv2D)            (None, 256, 256, 16)      208       \n",
      "_________________________________________________________________\n",
      "max_pooling2d_4 (MaxPooling2 (None, 128, 128, 16)      0         \n",
      "_________________________________________________________________\n",
      "conv2d_5 (Conv2D)            (None, 128, 128, 32)      2080      \n",
      "_________________________________________________________________\n",
      "max_pooling2d_5 (MaxPooling2 (None, 64, 64, 32)        0         \n",
      "_________________________________________________________________\n",
      "conv2d_6 (Conv2D)            (None, 64, 64, 64)        8256      \n",
      "_________________________________________________________________\n",
      "max_pooling2d_6 (MaxPooling2 (None, 32, 32, 64)        0         \n",
      "_________________________________________________________________\n",
      "conv2d_7 (Conv2D)            (None, 32, 32, 16)        16400     \n",
      "_________________________________________________________________\n",
      "max_pooling2d_7 (MaxPooling2 (None, 8, 8, 16)          0         \n",
      "_________________________________________________________________\n",
      "dropout_1 (Dropout)          (None, 8, 8, 16)          0         \n",
      "_________________________________________________________________\n",
      "flatten_2 (Flatten)          (None, 1024)              0         \n",
      "_________________________________________________________________\n",
      "dense_3 (Dense)              (None, 500)               512500    \n",
      "_________________________________________________________________\n",
      "dropout_2 (Dropout)          (None, 500)               0         \n",
      "_________________________________________________________________\n",
      "dense_4 (Dense)              (None, 2)                 1002      \n",
      "=================================================================\n",
      "Total params: 540,446\n",
      "Trainable params: 540,446\n",
      "Non-trainable params: 0\n",
      "_________________________________________________________________\n",
      "Found 5216 images belonging to 2 classes.\n",
      "Found 624 images belonging to 2 classes.\n",
      "Found 16 images belonging to 2 classes.\n"
     ]
    }
   ],
   "source": [
    "# Step 3 - Optimization \n",
    "\n",
    "# Step 3 - 1 : New CNN architecture\n",
    "\n",
    "from keras.models import Sequential\n",
    "from keras.layers import Conv2D\n",
    "from keras.layers import MaxPooling2D\n",
    "from keras.layers import GlobalAveragePooling2D\n",
    "from keras.layers import Flatten\n",
    "from keras.layers import Dense\n",
    "from keras.layers import Dropout\n",
    "\n",
    "import import_ipynb\n",
    "from F1_score import f1\n",
    "\n",
    "# Initialising the CNN\n",
    "classifier_op = Sequential()\n",
    "# Step A - Convolution\n",
    "classifier_op.add(Conv2D(filters=16, kernel_size=2, padding='same', activation='relu',input_shape=(256, 256, 3)))\n",
    "classifier_op.add(MaxPooling2D(pool_size=2))\n",
    "classifier_op.add(Conv2D(filters=32, kernel_size=2, padding='same', activation='relu'))\n",
    "classifier_op.add(MaxPooling2D(pool_size=2))\n",
    "classifier_op.add(Conv2D(filters=64, kernel_size=2, padding='same', activation='relu'))\n",
    "classifier_op.add(MaxPooling2D(pool_size=2))\n",
    "classifier_op.add(Conv2D(filters=16, kernel_size=4, padding='same', activation='relu'))\n",
    "classifier_op.add(MaxPooling2D(pool_size=4))\n",
    "classifier_op.add(Dropout(0.4))\n",
    "classifier_op.add(Flatten())\n",
    "classifier_op.add(Dense(500, activation = 'relu'))\n",
    "classifier_op.add(Dropout(0.2))\n",
    "classifier_op.add(Dense(2, activation='softmax'))\n",
    "\n",
    "classifier_op.summary()\n",
    "\n",
    "classifier_op.compile(optimizer='adam', loss='binary_crossentropy', metrics=[f1])\n",
    "\n",
    "# Step 3 - 2 : Augmentation data (Validation part)\n",
    "\n",
    "from keras.preprocessing.image import ImageDataGenerator\n",
    "\n",
    "train_datagen = ImageDataGenerator(rescale=1./255)\n",
    "\n",
    "test_datagen = ImageDataGenerator(\n",
    "        rotation_range=40,\n",
    "        width_shift_range=0.2,\n",
    "        height_shift_range=0.2,\n",
    "        rescale=1./255,\n",
    "        shear_range=0.2,\n",
    "        zoom_range=0.2,\n",
    "        horizontal_flip=True,\n",
    "        fill_mode='nearest')\n",
    "\n",
    "val_datagen = ImageDataGenerator(\n",
    "        rotation_range=40,\n",
    "        width_shift_range=0.2,\n",
    "        height_shift_range=0.2,\n",
    "        rescale=1./255,\n",
    "        shear_range=0.2,\n",
    "        zoom_range=0.2,\n",
    "        horizontal_flip=True,\n",
    "        fill_mode='nearest')\n",
    "\n",
    "train_generator = train_datagen.flow_from_directory(\n",
    "        './chest_xray/train',\n",
    "        target_size=(256, 256),\n",
    "        batch_size=20)\n",
    "\n",
    "test_generator = test_datagen.flow_from_directory(\n",
    "        './chest_xray/test',\n",
    "        target_size=(256, 256),\n",
    "        batch_size=20)\n",
    "\n",
    "validation_generator = val_datagen.flow_from_directory(\n",
    "        './chest_xray/val',\n",
    "        target_size=(256, 256),\n",
    "        batch_size=20)"
   ]
  },
  {
   "cell_type": "code",
   "execution_count": 14,
   "metadata": {},
   "outputs": [
    {
     "name": "stdout",
     "output_type": "stream",
     "text": [
      "Epoch 1/25\n",
      "100/100 [==============================] - 147s 1s/step - loss: 0.3143 - f1: 0.8580 - val_loss: 1.7241 - val_f1: 0.5625\n",
      "\n",
      "Epoch 00001: val_loss improved from inf to 1.72415, saving model to ./saved_models/weights.best.from_new_cnn_scratch.hdf5\n",
      "Epoch 2/25\n",
      "100/100 [==============================] - 134s 1s/step - loss: 0.2133 - f1: 0.9215 - val_loss: 1.5400 - val_f1: 0.5000\n",
      "\n",
      "Epoch 00002: val_loss improved from 1.72415 to 1.54004, saving model to ./saved_models/weights.best.from_new_cnn_scratch.hdf5\n",
      "Epoch 3/25\n",
      "100/100 [==============================] - 134s 1s/step - loss: 0.1397 - f1: 0.9500 - val_loss: 1.2970 - val_f1: 0.5000\n",
      "\n",
      "Epoch 00003: val_loss improved from 1.54004 to 1.29698, saving model to ./saved_models/weights.best.from_new_cnn_scratch.hdf5\n",
      "Epoch 4/25\n",
      "100/100 [==============================] - 129s 1s/step - loss: 0.1313 - f1: 0.9519 - val_loss: 3.6300 - val_f1: 0.5000\n",
      "\n",
      "Epoch 00004: val_loss did not improve from 1.29698\n",
      "Epoch 5/25\n",
      "100/100 [==============================] - 123s 1s/step - loss: 0.1197 - f1: 0.9575 - val_loss: 1.6665 - val_f1: 0.5625\n",
      "\n",
      "Epoch 00005: val_loss did not improve from 1.29698\n",
      "Epoch 6/25\n",
      "100/100 [==============================] - 117s 1s/step - loss: 0.1069 - f1: 0.9610 - val_loss: 2.4407 - val_f1: 0.5000\n",
      "\n",
      "Epoch 00006: val_loss did not improve from 1.29698\n",
      "Epoch 7/25\n",
      "100/100 [==============================] - 128s 1s/step - loss: 0.1095 - f1: 0.9560 - val_loss: 2.8090 - val_f1: 0.5000\n",
      "\n",
      "Epoch 00007: val_loss did not improve from 1.29698\n",
      "Epoch 8/25\n",
      "100/100 [==============================] - 131s 1s/step - loss: 0.0935 - f1: 0.9630 - val_loss: 3.3889 - val_f1: 0.5000\n",
      "\n",
      "Epoch 00008: val_loss did not improve from 1.29698\n",
      "Epoch 9/25\n",
      "100/100 [==============================] - 131s 1s/step - loss: 0.1053 - f1: 0.9600 - val_loss: 1.0967 - val_f1: 0.6250\n",
      "\n",
      "Epoch 00009: val_loss improved from 1.29698 to 1.09673, saving model to ./saved_models/weights.best.from_new_cnn_scratch.hdf5\n",
      "Epoch 10/25\n",
      "100/100 [==============================] - 144s 1s/step - loss: 0.1124 - f1: 0.9565 - val_loss: 2.7712 - val_f1: 0.5625\n",
      "\n",
      "Epoch 00010: val_loss did not improve from 1.09673\n",
      "Epoch 11/25\n",
      "100/100 [==============================] - 126s 1s/step - loss: 0.0882 - f1: 0.9705 - val_loss: 2.7702 - val_f1: 0.5000\n",
      "\n",
      "Epoch 00011: val_loss did not improve from 1.09673\n",
      "Epoch 12/25\n",
      "100/100 [==============================] - 120s 1s/step - loss: 0.0749 - f1: 0.9730 - val_loss: 2.3391 - val_f1: 0.5000\n",
      "\n",
      "Epoch 00012: val_loss did not improve from 1.09673\n",
      "Epoch 13/25\n",
      "100/100 [==============================] - 123s 1s/step - loss: 0.0793 - f1: 0.9705 - val_loss: 3.1840 - val_f1: 0.5000\n",
      "\n",
      "Epoch 00013: val_loss did not improve from 1.09673\n",
      "Epoch 14/25\n",
      "100/100 [==============================] - 127s 1s/step - loss: 0.0713 - f1: 0.9755 - val_loss: 2.2831 - val_f1: 0.5000\n",
      "\n",
      "Epoch 00014: val_loss did not improve from 1.09673\n",
      "Epoch 15/25\n",
      "100/100 [==============================] - 116s 1s/step - loss: 0.0584 - f1: 0.9784 - val_loss: 3.4008 - val_f1: 0.5625\n",
      "\n",
      "Epoch 00015: val_loss did not improve from 1.09673\n",
      "Epoch 16/25\n",
      "100/100 [==============================] - 127s 1s/step - loss: 0.0850 - f1: 0.9705 - val_loss: 2.2825 - val_f1: 0.5625\n",
      "\n",
      "Epoch 00016: val_loss did not improve from 1.09673\n",
      "Epoch 17/25\n",
      "100/100 [==============================] - 123s 1s/step - loss: 0.0442 - f1: 0.9840 - val_loss: 3.1273 - val_f1: 0.5000\n",
      "\n",
      "Epoch 00017: val_loss did not improve from 1.09673\n",
      "Epoch 18/25\n",
      "100/100 [==============================] - 119s 1s/step - loss: 0.0733 - f1: 0.9690 - val_loss: 2.7311 - val_f1: 0.5625\n",
      "\n",
      "Epoch 00018: val_loss did not improve from 1.09673\n",
      "Epoch 19/25\n",
      "100/100 [==============================] - 120s 1s/step - loss: 0.0636 - f1: 0.9770 - val_loss: 1.6295 - val_f1: 0.5000\n",
      "\n",
      "Epoch 00019: val_loss did not improve from 1.09673\n",
      "Epoch 20/25\n",
      "100/100 [==============================] - 115s 1s/step - loss: 0.0639 - f1: 0.9725 - val_loss: 4.9012 - val_f1: 0.5000\n",
      "\n",
      "Epoch 00020: val_loss did not improve from 1.09673\n",
      "Epoch 21/25\n",
      "100/100 [==============================] - 123s 1s/step - loss: 0.0801 - f1: 0.9705 - val_loss: 4.2996 - val_f1: 0.5000\n",
      "\n",
      "Epoch 00021: val_loss did not improve from 1.09673\n",
      "Epoch 22/25\n",
      "100/100 [==============================] - 116s 1s/step - loss: 0.0504 - f1: 0.9803 - val_loss: 2.7864 - val_f1: 0.5000\n",
      "\n",
      "Epoch 00022: val_loss did not improve from 1.09673\n",
      "Epoch 23/25\n",
      "100/100 [==============================] - 118s 1s/step - loss: 0.0681 - f1: 0.9735 - val_loss: 2.6920 - val_f1: 0.5625\n",
      "\n",
      "Epoch 00023: val_loss did not improve from 1.09673\n",
      "Epoch 24/25\n",
      "100/100 [==============================] - 117s 1s/step - loss: 0.0544 - f1: 0.9790 - val_loss: 2.6763 - val_f1: 0.5625\n",
      "\n",
      "Epoch 00024: val_loss did not improve from 1.09673\n",
      "Epoch 25/25\n",
      "100/100 [==============================] - 116s 1s/step - loss: 0.0470 - f1: 0.9785 - val_loss: 3.8178 - val_f1: 0.5625\n",
      "\n",
      "Epoch 00025: val_loss did not improve from 1.09673\n"
     ]
    }
   ],
   "source": [
    "# Step 3 - 3 Train the model\n",
    "\n",
    "from keras.callbacks import ModelCheckpoint  \n",
    "\n",
    "checkpointer = ModelCheckpoint(filepath='./saved_models/weights.best.from_new_cnn_scratch.hdf5', \n",
    "                               verbose=1, save_best_only=True)\n",
    "\n",
    "history = classifier_op.fit_generator(\n",
    "        train_generator,\n",
    "        steps_per_epoch=2000 // 20,\n",
    "        epochs=25,\n",
    "        validation_data=validation_generator,\n",
    "        validation_steps=400 // 20,callbacks=[checkpointer], verbose=1)"
   ]
  },
  {
   "cell_type": "code",
   "execution_count": 15,
   "metadata": {},
   "outputs": [],
   "source": [
    "plot_model(classifier_op, to_file='Model_png/model_scratch_op.png')"
   ]
  },
  {
   "cell_type": "code",
   "execution_count": 24,
   "metadata": {},
   "outputs": [
    {
     "ename": "NameError",
     "evalue": "name 'classifier_op' is not defined",
     "output_type": "error",
     "traceback": [
      "\u001b[0;31m---------------------------------------------------------------------------\u001b[0m",
      "\u001b[0;31mNameError\u001b[0m                                 Traceback (most recent call last)",
      "\u001b[0;32m<ipython-input-24-6619291be396>\u001b[0m in \u001b[0;36m<module>\u001b[0;34m()\u001b[0m\n\u001b[1;32m      1\u001b[0m \u001b[0;31m# Step 2-4 Load the Model with the Best Validation Loss\u001b[0m\u001b[0;34m\u001b[0m\u001b[0;34m\u001b[0m\u001b[0m\n\u001b[0;32m----> 2\u001b[0;31m \u001b[0mclassifier_op\u001b[0m\u001b[0;34m.\u001b[0m\u001b[0mload_weights\u001b[0m\u001b[0;34m(\u001b[0m\u001b[0;34m'saved_models/weights.best.from_new_cnn_scratch.hdf5'\u001b[0m\u001b[0;34m)\u001b[0m\u001b[0;34m\u001b[0m\u001b[0m\n\u001b[0m",
      "\u001b[0;31mNameError\u001b[0m: name 'classifier_op' is not defined"
     ]
    }
   ],
   "source": [
    "# Step 2-4 Load the Model with the Best Validation Loss\n",
    "classifier_op.load_weights('saved_models/weights.best.from_new_cnn_scratch.hdf5')"
   ]
  },
  {
   "cell_type": "code",
   "execution_count": 17,
   "metadata": {},
   "outputs": [
    {
     "name": "stdout",
     "output_type": "stream",
     "text": [
      "F1 score:  0.8301282051282052\n"
     ]
    }
   ],
   "source": [
    "# Step 2-5 Test the trained model\n",
    "\n",
    "chest_xray_predictions = [np.argmax(classifier_op.predict(np.expand_dims(tensor, axis=0))) for tensor in test_tensors]\n",
    "\n",
    "# report test accuracy\n",
    "test_accuracy = np.sum(np.array(chest_xray_predictions)==np.argmax(test_target, axis=1))/len(chest_xray_predictions)\n",
    "print('F1 score: ',test_accuracy)"
   ]
  },
  {
   "cell_type": "code",
   "execution_count": 18,
   "metadata": {},
   "outputs": [
    {
     "data": {
      "image/png": "[encoded data removed]",
      "text/plain": [
       "<Figure size 432x288 with 1 Axes>"
      ]
     },
     "metadata": {},
     "output_type": "display_data"
    }
   ],
   "source": [
    "# Plot training & validation accuracy values\n",
    "plt.plot(history.history['f1'])\n",
    "plt.plot(history.history['val_f1'])\n",
    "plt.title('Model accuracy')\n",
    "plt.ylabel('F1 Accuracy')\n",
    "plt.xlabel('Epoch')\n",
    "plt.legend(['Train', 'Val'], loc='upper left')\n",
    "plt.show()"
   ]
  },
  {
   "cell_type": "code",
   "execution_count": 19,
   "metadata": {},
   "outputs": [
    {
     "data": {
      "image/png": "[encoded data removed]",
      "text/plain": [
       "<Figure size 432x288 with 1 Axes>"
      ]
     },
     "metadata": {},
     "output_type": "display_data"
    }
   ],
   "source": [
    "# Plot training & validation loss values\n",
    "plt.plot(history.history['loss'])\n",
    "plt.plot(history.history['val_loss'])\n",
    "plt.title('Model loss')\n",
    "plt.ylabel('Loss')\n",
    "plt.xlabel('Epoch')\n",
    "plt.legend(['Train', 'Val'], loc='upper left')\n",
    "plt.show()"
   ]
  },
  {
   "cell_type": "code",
   "execution_count": 20,
   "metadata": {},
   "outputs": [
    {
     "name": "stdout",
     "output_type": "stream",
     "text": [
      "Epoch 1/25\n",
      "100/100 [==============================] - 130s 1s/step - loss: 0.1686 - f1: 0.9350 - val_loss: 1.9299 - val_f1: 0.5000\n",
      "\n",
      "Epoch 00001: val_loss improved from inf to 1.92991, saving model to ./saved_models/weights.best.from_new_cnn_scratch_SGD.hdf5\n",
      "Epoch 2/25\n",
      "100/100 [==============================] - 115s 1s/step - loss: 0.1234 - f1: 0.9565 - val_loss: 3.2031 - val_f1: 0.5000\n",
      "\n",
      "Epoch 00002: val_loss did not improve from 1.92991\n",
      "Epoch 3/25\n",
      "100/100 [==============================] - 114s 1s/step - loss: 0.1055 - f1: 0.9540 - val_loss: 2.1628 - val_f1: 0.5625\n",
      "\n",
      "Epoch 00003: val_loss did not improve from 1.92991\n",
      "Epoch 4/25\n",
      "100/100 [==============================] - 114s 1s/step - loss: 0.0907 - f1: 0.9645 - val_loss: 3.8439 - val_f1: 0.5625\n",
      "\n",
      "Epoch 00004: val_loss did not improve from 1.92991\n",
      "Epoch 5/25\n",
      "100/100 [==============================] - 114s 1s/step - loss: 0.1058 - f1: 0.9615 - val_loss: 1.7676 - val_f1: 0.5625\n",
      "\n",
      "Epoch 00005: val_loss improved from 1.92991 to 1.76758, saving model to ./saved_models/weights.best.from_new_cnn_scratch_SGD.hdf5\n",
      "Epoch 6/25\n",
      "100/100 [==============================] - 114s 1s/step - loss: 0.0933 - f1: 0.9640 - val_loss: 1.8678 - val_f1: 0.5000\n",
      "\n",
      "Epoch 00006: val_loss did not improve from 1.76758\n",
      "Epoch 7/25\n",
      "100/100 [==============================] - 119s 1s/step - loss: 0.0764 - f1: 0.9740 - val_loss: 2.7057 - val_f1: 0.5625\n",
      "\n",
      "Epoch 00007: val_loss did not improve from 1.76758\n",
      "Epoch 8/25\n",
      "100/100 [==============================] - 135s 1s/step - loss: 0.0962 - f1: 0.9670 - val_loss: 3.0052 - val_f1: 0.5000\n",
      "\n",
      "Epoch 00008: val_loss did not improve from 1.76758\n",
      "Epoch 9/25\n",
      "100/100 [==============================] - 120s 1s/step - loss: 0.0869 - f1: 0.9670 - val_loss: 2.9923 - val_f1: 0.5000\n",
      "\n",
      "Epoch 00009: val_loss did not improve from 1.76758\n",
      "Epoch 10/25\n",
      "100/100 [==============================] - 125s 1s/step - loss: 0.0784 - f1: 0.9695 - val_loss: 3.9647 - val_f1: 0.5000\n",
      "\n",
      "Epoch 00010: val_loss did not improve from 1.76758\n",
      "Epoch 11/25\n",
      "100/100 [==============================] - 132s 1s/step - loss: 0.0896 - f1: 0.9665 - val_loss: 2.6068 - val_f1: 0.5625\n",
      "\n",
      "Epoch 00011: val_loss did not improve from 1.76758\n",
      "Epoch 12/25\n",
      "100/100 [==============================] - 133s 1s/step - loss: 0.0755 - f1: 0.9735 - val_loss: 2.1265 - val_f1: 0.5625\n",
      "\n",
      "Epoch 00012: val_loss did not improve from 1.76758\n",
      "Epoch 13/25\n",
      "100/100 [==============================] - 122s 1s/step - loss: 0.0824 - f1: 0.9625 - val_loss: 1.7816 - val_f1: 0.5625\n",
      "\n",
      "Epoch 00013: val_loss did not improve from 1.76758\n",
      "Epoch 14/25\n",
      "100/100 [==============================] - 113s 1s/step - loss: 0.0779 - f1: 0.9680 - val_loss: 2.2389 - val_f1: 0.5000\n",
      "\n",
      "Epoch 00014: val_loss did not improve from 1.76758\n",
      "Epoch 15/25\n",
      "100/100 [==============================] - 113s 1s/step - loss: 0.0717 - f1: 0.9710 - val_loss: 3.2384 - val_f1: 0.5625\n",
      "\n",
      "Epoch 00015: val_loss did not improve from 1.76758\n",
      "Epoch 16/25\n",
      "100/100 [==============================] - 112s 1s/step - loss: 0.0720 - f1: 0.9714 - val_loss: 3.2573 - val_f1: 0.5000\n",
      "\n",
      "Epoch 00016: val_loss did not improve from 1.76758\n",
      "Epoch 17/25\n",
      "100/100 [==============================] - 113s 1s/step - loss: 0.0608 - f1: 0.9750 - val_loss: 3.2497 - val_f1: 0.5000\n",
      "\n",
      "Epoch 00017: val_loss did not improve from 1.76758\n",
      "Epoch 18/25\n",
      "100/100 [==============================] - 113s 1s/step - loss: 0.0738 - f1: 0.9730 - val_loss: 1.4827 - val_f1: 0.5000\n",
      "\n",
      "Epoch 00018: val_loss improved from 1.76758 to 1.48274, saving model to ./saved_models/weights.best.from_new_cnn_scratch_SGD.hdf5\n",
      "Epoch 19/25\n",
      "100/100 [==============================] - 114s 1s/step - loss: 0.0669 - f1: 0.9785 - val_loss: 2.6160 - val_f1: 0.5000\n",
      "\n",
      "Epoch 00019: val_loss did not improve from 1.48274\n",
      "Epoch 20/25\n",
      "100/100 [==============================] - 116s 1s/step - loss: 0.0638 - f1: 0.9735 - val_loss: 2.7883 - val_f1: 0.5625\n",
      "\n",
      "Epoch 00020: val_loss did not improve from 1.48274\n",
      "Epoch 21/25\n",
      "100/100 [==============================] - 112s 1s/step - loss: 0.0732 - f1: 0.9725 - val_loss: 3.2496 - val_f1: 0.3750\n",
      "\n",
      "Epoch 00021: val_loss did not improve from 1.48274\n",
      "Epoch 22/25\n",
      "100/100 [==============================] - 115s 1s/step - loss: 0.0575 - f1: 0.9770 - val_loss: 3.4028 - val_f1: 0.5000\n",
      "\n",
      "Epoch 00022: val_loss did not improve from 1.48274\n",
      "Epoch 23/25\n",
      "100/100 [==============================] - 117s 1s/step - loss: 0.0481 - f1: 0.9825 - val_loss: 3.4122 - val_f1: 0.5625\n",
      "\n",
      "Epoch 00023: val_loss did not improve from 1.48274\n",
      "Epoch 24/25\n",
      "100/100 [==============================] - 113s 1s/step - loss: 0.0577 - f1: 0.9740 - val_loss: 2.2737 - val_f1: 0.5625\n",
      "\n",
      "Epoch 00024: val_loss did not improve from 1.48274\n",
      "Epoch 25/25\n",
      "100/100 [==============================] - 119s 1s/step - loss: 0.0569 - f1: 0.9810 - val_loss: 2.2554 - val_f1: 0.5000\n",
      "\n",
      "Epoch 00025: val_loss did not improve from 1.48274\n"
     ]
    }
   ],
   "source": [
    "# Play with the optimizer \n",
    "\n",
    "# Optimizer (already use rmsprop and adam)\n",
    "# Let's try performance obtained with SGD\n",
    "\n",
    "from keras.optimizers import SGD\n",
    "\n",
    "sgd = SGD(lr=0.01, decay=1e-6, momentum=0.9, nesterov=True)\n",
    "\n",
    "classifier_op.compile(optimizer=sgd, loss='binary_crossentropy', metrics=[f1])\n",
    "\n",
    "checkpointer = ModelCheckpoint(filepath='./saved_models/weights.best.from_new_cnn_scratch_SGD.hdf5', \n",
    "                               verbose=1, save_best_only=True)\n",
    "\n",
    "history = classifier_op.fit_generator(\n",
    "        train_generator,\n",
    "        steps_per_epoch=2000 // 20,\n",
    "        epochs=25,\n",
    "        validation_data=validation_generator,\n",
    "        validation_steps=400 // 20,callbacks=[checkpointer], verbose=1)\n"
   ]
  },
  {
   "cell_type": "code",
   "execution_count": 21,
   "metadata": {},
   "outputs": [],
   "source": [
    "# Load the Model with the Best Validation Loss\n",
    "classifier_op.load_weights('saved_models/weights.best.from_new_cnn_scratch_SGD.hdf5')"
   ]
  },
  {
   "cell_type": "code",
   "execution_count": 22,
   "metadata": {},
   "outputs": [
    {
     "name": "stdout",
     "output_type": "stream",
     "text": [
      "F1 score:  0.7852564102564102\n"
     ]
    }
   ],
   "source": [
    "# Test the trained model\n",
    "\n",
    "chest_xray_predictions = [np.argmax(classifier_op.predict(np.expand_dims(tensor, axis=0))) for tensor in test_tensors]\n",
    "\n",
    "# report test accuracy\n",
    "test_accuracy = np.sum(np.array(chest_xray_predictions)==np.argmax(test_target, axis=1))/len(chest_xray_predictions)\n",
    "print('F1 score: ',test_accuracy)"
   ]
  },
  {
   "cell_type": "code",
   "execution_count": 23,
   "metadata": {},
   "outputs": [
    {
     "data": {
      "image/png": "[encoded data removed]",
      "text/plain": [
       "<Figure size 432x288 with 1 Axes>"
      ]
     },
     "metadata": {},
     "output_type": "display_data"
    }
   ],
   "source": [
    "# Plot training & validation accuracy values\n",
    "plt.plot(history.history['f1'])\n",
    "plt.plot(history.history['val_f1'])\n",
    "plt.title('Model accuracy')\n",
    "plt.ylabel('F1 Accuracy')\n",
    "plt.xlabel('Epoch')\n",
    "plt.legend(['Train', 'Val'], loc='upper left')\n",
    "plt.show()"
   ]
  },
  {
   "cell_type": "code",
   "execution_count": 24,
   "metadata": {},
   "outputs": [
    {
     "data": {
      "image/png": "[encoded data removed]",
      "text/plain": [
       "<Figure size 432x288 with 1 Axes>"
      ]
     },
     "metadata": {},
     "output_type": "display_data"
    }
   ],
   "source": [
    "# Plot training & validation loss values\n",
    "plt.plot(history.history['loss'])\n",
    "plt.plot(history.history['val_loss'])\n",
    "plt.title('Model loss')\n",
    "plt.ylabel('Loss')\n",
    "plt.xlabel('Epoch')\n",
    "plt.legend(['Train', 'Val'], loc='upper left')\n",
    "plt.show()"
   ]
  },
  {
   "cell_type": "code",
   "execution_count": 6,
   "metadata": {},
   "outputs": [
    {
     "name": "stdout",
     "output_type": "stream",
     "text": [
      "importing Jupyter notebook from F1_score.ipynb\n",
      "Found 5216 images belonging to 2 classes.\n",
      "Found 624 images belonging to 2 classes.\n",
      "Found 16 images belonging to 2 classes.\n",
      "Epoch 1/5\n",
      "10/10 [==============================] - 54s 5s/step - loss: 2.1076 - f1: 0.6250 - val_loss: 4.2794 - val_f1: 0.5000\n",
      "\n",
      "Epoch 00001: val_loss improved from inf to 4.27944, saving model to ./saved_models/weights.best.from_transfer_learning.hdf5\n",
      "Epoch 2/5\n",
      "10/10 [==============================] - 47s 5s/step - loss: 0.5627 - f1: 0.7150 - val_loss: 1.6301 - val_f1: 0.5000\n",
      "\n",
      "Epoch 00002: val_loss improved from 4.27944 to 1.63008, saving model to ./saved_models/weights.best.from_transfer_learning.hdf5\n",
      "Epoch 3/5\n",
      "10/10 [==============================] - 45s 5s/step - loss: 0.4561 - f1: 0.7900 - val_loss: 0.6183 - val_f1: 0.7500\n",
      "\n",
      "Epoch 00003: val_loss improved from 1.63008 to 0.61827, saving model to ./saved_models/weights.best.from_transfer_learning.hdf5\n",
      "Epoch 4/5\n",
      "10/10 [==============================] - 44s 4s/step - loss: 0.3877 - f1: 0.8600 - val_loss: 1.1714 - val_f1: 0.5000\n",
      "\n",
      "Epoch 00004: val_loss did not improve from 0.61827\n",
      "Epoch 5/5\n",
      "10/10 [==============================] - 50s 5s/step - loss: 0.2696 - f1: 0.8650 - val_loss: 0.9273 - val_f1: 0.6875\n",
      "\n",
      "Epoch 00005: val_loss did not improve from 0.61827\n"
     ]
    }
   ],
   "source": [
    "# Step 4 - Transfer Learning\n",
    "# Step 4 - 1 : InceptionV3\n",
    "\n",
    "from keras.applications.inception_v3 import InceptionV3\n",
    "from keras.preprocessing import image\n",
    "from keras.models import Model\n",
    "from keras.layers import Dense, GlobalAveragePooling2D\n",
    "from keras import backend as K\n",
    "from keras.callbacks import ModelCheckpoint  \n",
    "\n",
    "from keras.preprocessing.image import ImageDataGenerator\n",
    "\n",
    "import import_ipynb\n",
    "from F1_score import f1\n",
    "\n",
    "train_datagen = ImageDataGenerator(rescale=1./255)\n",
    "\n",
    "test_datagen = ImageDataGenerator(\n",
    "        rotation_range=40,\n",
    "        width_shift_range=0.2,\n",
    "        height_shift_range=0.2,\n",
    "        rescale=1./255,\n",
    "        shear_range=0.2,\n",
    "        zoom_range=0.2,\n",
    "        horizontal_flip=True,\n",
    "        fill_mode='nearest')\n",
    "\n",
    "val_datagen = ImageDataGenerator(\n",
    "        rotation_range=40,\n",
    "        width_shift_range=0.2,\n",
    "        height_shift_range=0.2,\n",
    "        rescale=1./255,\n",
    "        shear_range=0.2,\n",
    "        zoom_range=0.2,\n",
    "        horizontal_flip=True,\n",
    "        fill_mode='nearest')\n",
    "\n",
    "train_generator = train_datagen.flow_from_directory(\n",
    "        './chest_xray/train',\n",
    "        target_size=(224, 224),\n",
    "        batch_size=20)\n",
    "\n",
    "test_generator = test_datagen.flow_from_directory(\n",
    "        './chest_xray/test',\n",
    "        target_size=(224, 224),\n",
    "        batch_size=20)\n",
    "\n",
    "validation_generator = val_datagen.flow_from_directory(\n",
    "        './chest_xray/val',\n",
    "        target_size=(224, 224),\n",
    "        batch_size=20)\n",
    "\n",
    "# create the base pre-trained model\n",
    "base_model = InceptionV3(weights='imagenet', include_top=False)\n",
    "\n",
    "# add a global spatial average pooling layer\n",
    "x = base_model.output\n",
    "x = GlobalAveragePooling2D()(x)\n",
    "# let's add a fully-connected layer\n",
    "x = Dense(1024, activation='relu')(x)\n",
    "# and a logistic layer \n",
    "predictions = Dense(2, activation='softmax')(x)\n",
    "\n",
    "# this is the model we will train\n",
    "Fine_Transfer = Model(inputs=base_model.input, outputs=predictions)\n",
    "\n",
    "# first: train only the top layers (which were randomly initialized)\n",
    "# i.e. freeze all convolutional InceptionV3 layers\n",
    "for layer in base_model.layers:\n",
    "    layer.trainable = False\n",
    "\n",
    "# compile the model (should be done *after* setting layers to non-trainable)\n",
    "Fine_Transfer.compile(optimizer='adam', loss='binary_crossentropy', metrics=[f1])\n",
    "\n",
    "\n",
    "checkpointer = ModelCheckpoint(filepath='./saved_models/weights.best.from_transfer_learning.hdf5', \n",
    "                               verbose=1, save_best_only=True)\n",
    "\n",
    "# train the model on the new data for a few epochs\n",
    "history = Fine_Transfer.fit_generator(train_generator,\n",
    "        steps_per_epoch=200 // 20,\n",
    "        epochs=5,\n",
    "        validation_data=validation_generator,\n",
    "        validation_steps=400 // 20,callbacks=[checkpointer], verbose=1)"
   ]
  },
  {
   "cell_type": "code",
   "execution_count": 7,
   "metadata": {},
   "outputs": [],
   "source": [
    "from keras.utils import plot_model\n",
    "plot_model(Fine_Transfer, to_file='Model_png/model_Inception_Transfer_learning.png')"
   ]
  },
  {
   "cell_type": "code",
   "execution_count": 8,
   "metadata": {},
   "outputs": [],
   "source": [
    "# Load the Model with the Best Validation Loss (transfer learning)\n",
    "Fine_Transfer.load_weights('saved_models/weights.best.from_transfer_learning.hdf5')"
   ]
  },
  {
   "cell_type": "code",
   "execution_count": 13,
   "metadata": {},
   "outputs": [
    {
     "name": "stdout",
     "output_type": "stream",
     "text": [
      "F1 score:  0.657051282051282\n"
     ]
    }
   ],
   "source": [
    "# Test the trained model\n",
    "\n",
    "chest_xray_predictions = [np.argmax(Fine_Transfer.predict(np.expand_dims(tensor, axis=0))) for tensor in test_tensors]\n",
    "\n",
    "# report test accuracy\n",
    "test_accuracy = np.sum(np.array(chest_xray_predictions)==np.argmax(test_target, axis=1))/len(chest_xray_predictions)\n",
    "print('F1 score: ',test_accuracy)"
   ]
  },
  {
   "cell_type": "code",
   "execution_count": 16,
   "metadata": {},
   "outputs": [
    {
     "data": {
      "image/png": "[encoded data removed]",
      "text/plain": [
       "<Figure size 432x288 with 1 Axes>"
      ]
     },
     "metadata": {},
     "output_type": "display_data"
    }
   ],
   "source": [
    "# Plot training & validation accuracy values\n",
    "import matplotlib.pyplot as plt\n",
    "plt.plot(history.history['f1'])\n",
    "plt.plot(history.history['val_f1'])\n",
    "plt.title('Model accuracy')\n",
    "plt.ylabel('F1 Accuracy')\n",
    "plt.xlabel('Epoch')\n",
    "plt.legend(['Train', 'Val'], loc='upper left')\n",
    "plt.show()"
   ]
  },
  {
   "cell_type": "code",
   "execution_count": 17,
   "metadata": {},
   "outputs": [
    {
     "data": {
      "image/png": "[encoded data removed]",
      "text/plain": [
       "<Figure size 432x288 with 1 Axes>"
      ]
     },
     "metadata": {},
     "output_type": "display_data"
    }
   ],
   "source": [
    "# Plot training & validation loss values\n",
    "plt.plot(history.history['loss'])\n",
    "plt.plot(history.history['val_loss'])\n",
    "plt.title('Model loss')\n",
    "plt.ylabel('Loss')\n",
    "plt.xlabel('Epoch')\n",
    "plt.legend(['Train', 'Val'], loc='upper left')\n",
    "plt.show()"
   ]
  },
  {
   "cell_type": "code",
   "execution_count": 18,
   "metadata": {},
   "outputs": [
    {
     "name": "stdout",
     "output_type": "stream",
     "text": [
      "0 input_2\n",
      "1 conv2d_95\n",
      "2 batch_normalization_95\n",
      "3 activation_95\n",
      "4 conv2d_96\n",
      "5 batch_normalization_96\n",
      "6 activation_96\n",
      "7 conv2d_97\n",
      "8 batch_normalization_97\n",
      "9 activation_97\n",
      "10 max_pooling2d_5\n",
      "11 conv2d_98\n",
      "12 batch_normalization_98\n",
      "13 activation_98\n",
      "14 conv2d_99\n",
      "15 batch_normalization_99\n",
      "16 activation_99\n",
      "17 max_pooling2d_6\n",
      "18 conv2d_103\n",
      "19 batch_normalization_103\n",
      "20 activation_103\n",
      "21 conv2d_101\n",
      "22 conv2d_104\n",
      "23 batch_normalization_101\n",
      "24 batch_normalization_104\n",
      "25 activation_101\n",
      "26 activation_104\n",
      "27 average_pooling2d_10\n",
      "28 conv2d_100\n",
      "29 conv2d_102\n",
      "30 conv2d_105\n",
      "31 conv2d_106\n",
      "32 batch_normalization_100\n",
      "33 batch_normalization_102\n",
      "34 batch_normalization_105\n",
      "35 batch_normalization_106\n",
      "36 activation_100\n",
      "37 activation_102\n",
      "38 activation_105\n",
      "39 activation_106\n",
      "40 mixed0\n",
      "41 conv2d_110\n",
      "42 batch_normalization_110\n",
      "43 activation_110\n",
      "44 conv2d_108\n",
      "45 conv2d_111\n",
      "46 batch_normalization_108\n",
      "47 batch_normalization_111\n",
      "48 activation_108\n",
      "49 activation_111\n",
      "50 average_pooling2d_11\n",
      "51 conv2d_107\n",
      "52 conv2d_109\n",
      "53 conv2d_112\n",
      "54 conv2d_113\n",
      "55 batch_normalization_107\n",
      "56 batch_normalization_109\n",
      "57 batch_normalization_112\n",
      "58 batch_normalization_113\n",
      "59 activation_107\n",
      "60 activation_109\n",
      "61 activation_112\n",
      "62 activation_113\n",
      "63 mixed1\n",
      "64 conv2d_117\n",
      "65 batch_normalization_117\n",
      "66 activation_117\n",
      "67 conv2d_115\n",
      "68 conv2d_118\n",
      "69 batch_normalization_115\n",
      "70 batch_normalization_118\n",
      "71 activation_115\n",
      "72 activation_118\n",
      "73 average_pooling2d_12\n",
      "74 conv2d_114\n",
      "75 conv2d_116\n",
      "76 conv2d_119\n",
      "77 conv2d_120\n",
      "78 batch_normalization_114\n",
      "79 batch_normalization_116\n",
      "80 batch_normalization_119\n",
      "81 batch_normalization_120\n",
      "82 activation_114\n",
      "83 activation_116\n",
      "84 activation_119\n",
      "85 activation_120\n",
      "86 mixed2\n",
      "87 conv2d_122\n",
      "88 batch_normalization_122\n",
      "89 activation_122\n",
      "90 conv2d_123\n",
      "91 batch_normalization_123\n",
      "92 activation_123\n",
      "93 conv2d_121\n",
      "94 conv2d_124\n",
      "95 batch_normalization_121\n",
      "96 batch_normalization_124\n",
      "97 activation_121\n",
      "98 activation_124\n",
      "99 max_pooling2d_7\n",
      "100 mixed3\n",
      "101 conv2d_129\n",
      "102 batch_normalization_129\n",
      "103 activation_129\n",
      "104 conv2d_130\n",
      "105 batch_normalization_130\n",
      "106 activation_130\n",
      "107 conv2d_126\n",
      "108 conv2d_131\n",
      "109 batch_normalization_126\n",
      "110 batch_normalization_131\n",
      "111 activation_126\n",
      "112 activation_131\n",
      "113 conv2d_127\n",
      "114 conv2d_132\n",
      "115 batch_normalization_127\n",
      "116 batch_normalization_132\n",
      "117 activation_127\n",
      "118 activation_132\n",
      "119 average_pooling2d_13\n",
      "120 conv2d_125\n",
      "121 conv2d_128\n",
      "122 conv2d_133\n",
      "123 conv2d_134\n",
      "124 batch_normalization_125\n",
      "125 batch_normalization_128\n",
      "126 batch_normalization_133\n",
      "127 batch_normalization_134\n",
      "128 activation_125\n",
      "129 activation_128\n",
      "130 activation_133\n",
      "131 activation_134\n",
      "132 mixed4\n",
      "133 conv2d_139\n",
      "134 batch_normalization_139\n",
      "135 activation_139\n",
      "136 conv2d_140\n",
      "137 batch_normalization_140\n",
      "138 activation_140\n",
      "139 conv2d_136\n",
      "140 conv2d_141\n",
      "141 batch_normalization_136\n",
      "142 batch_normalization_141\n",
      "143 activation_136\n",
      "144 activation_141\n",
      "145 conv2d_137\n",
      "146 conv2d_142\n",
      "147 batch_normalization_137\n",
      "148 batch_normalization_142\n",
      "149 activation_137\n",
      "150 activation_142\n",
      "151 average_pooling2d_14\n",
      "152 conv2d_135\n",
      "153 conv2d_138\n",
      "154 conv2d_143\n",
      "155 conv2d_144\n",
      "156 batch_normalization_135\n",
      "157 batch_normalization_138\n",
      "158 batch_normalization_143\n",
      "159 batch_normalization_144\n",
      "160 activation_135\n",
      "161 activation_138\n",
      "162 activation_143\n",
      "163 activation_144\n",
      "164 mixed5\n",
      "165 conv2d_149\n",
      "166 batch_normalization_149\n",
      "167 activation_149\n",
      "168 conv2d_150\n",
      "169 batch_normalization_150\n",
      "170 activation_150\n",
      "171 conv2d_146\n",
      "172 conv2d_151\n",
      "173 batch_normalization_146\n",
      "174 batch_normalization_151\n",
      "175 activation_146\n",
      "176 activation_151\n",
      "177 conv2d_147\n",
      "178 conv2d_152\n",
      "179 batch_normalization_147\n",
      "180 batch_normalization_152\n",
      "181 activation_147\n",
      "182 activation_152\n",
      "183 average_pooling2d_15\n",
      "184 conv2d_145\n",
      "185 conv2d_148\n",
      "186 conv2d_153\n",
      "187 conv2d_154\n",
      "188 batch_normalization_145\n",
      "189 batch_normalization_148\n",
      "190 batch_normalization_153\n",
      "191 batch_normalization_154\n",
      "192 activation_145\n",
      "193 activation_148\n",
      "194 activation_153\n",
      "195 activation_154\n",
      "196 mixed6\n",
      "197 conv2d_159\n",
      "198 batch_normalization_159\n",
      "199 activation_159\n",
      "200 conv2d_160\n",
      "201 batch_normalization_160\n",
      "202 activation_160\n",
      "203 conv2d_156\n",
      "204 conv2d_161\n",
      "205 batch_normalization_156\n",
      "206 batch_normalization_161\n",
      "207 activation_156\n",
      "208 activation_161\n",
      "209 conv2d_157\n",
      "210 conv2d_162\n",
      "211 batch_normalization_157\n",
      "212 batch_normalization_162\n",
      "213 activation_157\n",
      "214 activation_162\n",
      "215 average_pooling2d_16\n",
      "216 conv2d_155\n",
      "217 conv2d_158\n",
      "218 conv2d_163\n",
      "219 conv2d_164\n",
      "220 batch_normalization_155\n",
      "221 batch_normalization_158\n",
      "222 batch_normalization_163\n",
      "223 batch_normalization_164\n",
      "224 activation_155\n",
      "225 activation_158\n",
      "226 activation_163\n",
      "227 activation_164\n",
      "228 mixed7\n",
      "229 conv2d_167\n",
      "230 batch_normalization_167\n",
      "231 activation_167\n",
      "232 conv2d_168\n",
      "233 batch_normalization_168\n",
      "234 activation_168\n",
      "235 conv2d_165\n",
      "236 conv2d_169\n",
      "237 batch_normalization_165\n",
      "238 batch_normalization_169\n",
      "239 activation_165\n",
      "240 activation_169\n",
      "241 conv2d_166\n",
      "242 conv2d_170\n",
      "243 batch_normalization_166\n",
      "244 batch_normalization_170\n",
      "245 activation_166\n",
      "246 activation_170\n",
      "247 max_pooling2d_8\n",
      "248 mixed8\n",
      "249 conv2d_175\n",
      "250 batch_normalization_175\n",
      "251 activation_175\n",
      "252 conv2d_172\n",
      "253 conv2d_176\n",
      "254 batch_normalization_172\n",
      "255 batch_normalization_176\n",
      "256 activation_172\n",
      "257 activation_176\n",
      "258 conv2d_173\n",
      "259 conv2d_174\n",
      "260 conv2d_177\n",
      "261 conv2d_178\n",
      "262 average_pooling2d_17\n",
      "263 conv2d_171\n",
      "264 batch_normalization_173\n",
      "265 batch_normalization_174\n",
      "266 batch_normalization_177\n",
      "267 batch_normalization_178\n",
      "268 conv2d_179\n",
      "269 batch_normalization_171\n",
      "270 activation_173\n",
      "271 activation_174\n",
      "272 activation_177\n",
      "273 activation_178\n",
      "274 batch_normalization_179\n",
      "275 activation_171\n",
      "276 mixed9_0\n",
      "277 concatenate_3\n",
      "278 activation_179\n",
      "279 mixed9\n",
      "280 conv2d_184\n",
      "281 batch_normalization_184\n",
      "282 activation_184\n",
      "283 conv2d_181\n",
      "284 conv2d_185\n",
      "285 batch_normalization_181\n",
      "286 batch_normalization_185\n",
      "287 activation_181\n",
      "288 activation_185\n",
      "289 conv2d_182\n",
      "290 conv2d_183\n",
      "291 conv2d_186\n",
      "292 conv2d_187\n",
      "293 average_pooling2d_18\n",
      "294 conv2d_180\n",
      "295 batch_normalization_182\n",
      "296 batch_normalization_183\n",
      "297 batch_normalization_186\n",
      "298 batch_normalization_187\n",
      "299 conv2d_188\n",
      "300 batch_normalization_180\n",
      "301 activation_182\n",
      "302 activation_183\n",
      "303 activation_186\n",
      "304 activation_187\n",
      "305 batch_normalization_188\n",
      "306 activation_180\n",
      "307 mixed9_1\n",
      "308 concatenate_4\n",
      "309 activation_188\n",
      "310 mixed10\n"
     ]
    }
   ],
   "source": [
    "# let's visualize layer names and layer indices to see how many layers\n",
    "# we should freeze:\n",
    "for i, layer in enumerate(base_model.layers):\n",
    "   print(i, layer.name)"
   ]
  },
  {
   "cell_type": "code",
   "execution_count": 24,
   "metadata": {},
   "outputs": [
    {
     "name": "stdout",
     "output_type": "stream",
     "text": [
      "Epoch 1/5\n",
      "10/10 [==============================] - 147s 15s/step - loss: 0.3969 - f1: 0.8750 - val_loss: 0.6985 - val_f1: 0.6250\n",
      "\n",
      "Epoch 00001: val_loss improved from inf to 0.69854, saving model to ./saved_models/weights.best.from_transfer_learning_fine_tuning.hdf5\n",
      "Epoch 2/5\n",
      "10/10 [==============================] - 129s 13s/step - loss: 0.3431 - f1: 0.9300 - val_loss: 0.7584 - val_f1: 0.5625\n",
      "\n",
      "Epoch 00002: val_loss did not improve from 0.69854\n",
      "Epoch 3/5\n",
      "10/10 [==============================] - 131s 13s/step - loss: 0.3285 - f1: 0.9250 - val_loss: 0.6960 - val_f1: 0.5625\n",
      "\n",
      "Epoch 00003: val_loss improved from 0.69854 to 0.69600, saving model to ./saved_models/weights.best.from_transfer_learning_fine_tuning.hdf5\n",
      "Epoch 4/5\n",
      "10/10 [==============================] - 126s 13s/step - loss: 0.3125 - f1: 0.9300 - val_loss: 0.7752 - val_f1: 0.5000\n",
      "\n",
      "Epoch 00004: val_loss did not improve from 0.69600\n",
      "Epoch 5/5\n",
      "10/10 [==============================] - 129s 13s/step - loss: 0.3178 - f1: 0.9000 - val_loss: 0.6797 - val_f1: 0.5625\n",
      "\n",
      "Epoch 00005: val_loss improved from 0.69600 to 0.67973, saving model to ./saved_models/weights.best.from_transfer_learning_fine_tuning.hdf5\n"
     ]
    },
    {
     "data": {
      "text/plain": [
       "<keras.callbacks.History at 0x1a3bce5eb8>"
      ]
     },
     "execution_count": 24,
     "metadata": {},
     "output_type": "execute_result"
    }
   ],
   "source": [
    "# we chose to train the low inception blocks, i.e. we will freeze\n",
    "# the first layers and unfreeze the rest:\n",
    "for layer in Fine_Transfer.layers[:33]:\n",
    "   layer.trainable = True\n",
    "for layer in Fine_Transfer.layers[33:]:\n",
    "   layer.trainable = False\n",
    "\n",
    "\n",
    "# compile the model (should be done *after* setting layers to non-trainable)\n",
    "Fine_Transfer.compile(optimizer='adam', loss='binary_crossentropy', metrics=[f1])\n",
    "\n",
    "checkpointer = ModelCheckpoint(filepath='./saved_models/weights.best.from_transfer_learning_fine_tuning.hdf5', \n",
    "                               verbose=1, save_best_only=True)\n",
    "\n",
    "# train the model on the new data for a few epochs\n",
    "Fine_Transfer.fit_generator(train_generator,\n",
    "        steps_per_epoch=200 // 20,\n",
    "        epochs=5,\n",
    "        validation_data=validation_generator,\n",
    "        validation_steps=400 // 20,callbacks=[checkpointer], verbose=1)\n"
   ]
  },
  {
   "cell_type": "code",
   "execution_count": 25,
   "metadata": {},
   "outputs": [],
   "source": [
    "# Load the Model with the Best Validation Loss\n",
    "Fine_Transfer.load_weights('saved_models/weights.best.from_transfer_learning_fine_tuning.hdf5')"
   ]
  },
  {
   "cell_type": "code",
   "execution_count": 26,
   "metadata": {},
   "outputs": [
    {
     "name": "stdout",
     "output_type": "stream",
     "text": [
      "F1 score:  0.7131410256410257\n"
     ]
    }
   ],
   "source": [
    "# Test the trained model\n",
    "\n",
    "chest_xray_predictions = [np.argmax(Fine_Transfer.predict(np.expand_dims(tensor, axis=0))) for tensor in test_tensors]\n",
    "\n",
    "# report test accuracy\n",
    "test_accuracy = np.sum(np.array(chest_xray_predictions)==np.argmax(test_target, axis=1))/len(chest_xray_predictions)\n",
    "print('F1 score: ',test_accuracy)"
   ]
  },
  {
   "cell_type": "code",
   "execution_count": 27,
   "metadata": {},
   "outputs": [],
   "source": [
    "# Step 5 : CAM\n",
    "\n",
    "from keras.applications.inception_v3 import InceptionV3, preprocess_input, decode_predictions\n",
    "from keras.preprocessing import image\n",
    "import keras.backend as K\n",
    "import numpy as np\n",
    "import cv2\n",
    "import sys\n"
   ]
  },
  {
   "cell_type": "code",
   "execution_count": 31,
   "metadata": {},
   "outputs": [
    {
     "data": {
      "text/plain": [
       "-1"
      ]
     },
     "execution_count": 31,
     "metadata": {},
     "output_type": "execute_result"
    }
   ],
   "source": [
    "#img_path = './chest_xray/test/PNEUMONIA/person100_bacteria_475.jpeg'\n",
    "#img_path = './chest_xray/test/PNEUMONIA/person1649_virus_2850.jpeg'\n",
    "#img_path = './chest_xray/test/NORMAL/IM-0111-0001.jpeg'\n",
    "img_path = './chest_xray/test/NORMAL/NORMAL2-IM-0313-0001.jpeg'\n",
    "\n",
    "img = image.load_img(img_path, target_size=(224, 224))\n",
    "x = image.img_to_array(img)\n",
    "x = np.expand_dims(x, axis=0)\n",
    "x = preprocess_input(x)\n",
    "\n",
    "preds = Fine_Transfer.predict(x)\n",
    "class_idx = np.argmax(preds[0])\n",
    "class_output = Fine_Transfer.output[:, class_idx]\n",
    "last_conv_layer = Fine_Transfer.get_layer(\"mixed10\")\n",
    "\n",
    "grads = K.gradients(class_output, last_conv_layer.output)[0]\n",
    "pooled_grads = K.mean(grads, axis=(0, 1, 2))\n",
    "iterate = K.function([Fine_Transfer.input], [pooled_grads, last_conv_layer.output[0]])\n",
    "pooled_grads_value, conv_layer_output_value = iterate([x])\n",
    "for i in range(512):\n",
    "    conv_layer_output_value[:, :, i] *= pooled_grads_value[i]\n",
    "    \n",
    "heatmap = np.mean(conv_layer_output_value, axis=-1)\n",
    "heatmap = np.maximum(heatmap, 0)\n",
    "heatmap /= np.max(heatmap)\n",
    "\n",
    "img = cv2.imread(img_path)\n",
    "heatmap = cv2.resize(heatmap, (img.shape[1], img.shape[0]))\n",
    "heatmap = np.uint8(255 * heatmap)\n",
    "heatmap = cv2.applyColorMap(heatmap, cv2.COLORMAP_JET)\n",
    "superimposed_img = cv2.addWeighted(img, 0.6, heatmap, 0.4, 0)\n",
    "cv2.imshow(\"Original\", img)\n",
    "cv2.imshow(\"GradCam\", superimposed_img)\n",
    "cv2.waitKey(30)"
   ]
  },
  {
   "cell_type": "code",
   "execution_count": null,
   "metadata": {},
   "outputs": [],
   "source": []
  }
 ],
 "metadata": {
  "kernelspec": {
   "display_name": "Python 3",
   "language": "python",
   "name": "python3"
  },
  "language_info": {
   "codemirror_mode": {
    "name": "ipython",
    "version": 3
   },
   "file_extension": ".py",
   "mimetype": "text/x-python",
   "name": "python",
   "nbconvert_exporter": "python",
   "pygments_lexer": "ipython3",
   "version": "3.6.5"
  }
 },
 "nbformat": 4,
 "nbformat_minor": 2
}
